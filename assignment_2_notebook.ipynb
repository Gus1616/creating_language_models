{
 "cells": [
  {
   "cell_type": "markdown",
   "id": "ddda8fda",
   "metadata": {},
   "source": [
    "1. Choose 10 words from your corpus and see what words are considered to be the most similar\n",
    "using the pre-trained word2vec introduced in Task 1 of Workshop 4. Discuss and briefly\n",
    "document the outputs, keeping in mind that the pre-trained word2vec is only a sample model.\n",
    "You may look at other pre-trained models but this is not compulsory."
   ]
  },
  {
   "cell_type": "code",
   "execution_count": null,
   "id": "74da6acc",
   "metadata": {},
   "outputs": [],
   "source": []
  },
  {
   "cell_type": "code",
   "execution_count": null,
   "id": "08ce940e",
   "metadata": {},
   "outputs": [],
   "source": []
  },
  {
   "cell_type": "markdown",
   "id": "7fb3795e",
   "metadata": {},
   "source": [
    "2. Using the tools introduced in Task 4 of Workshop 4, build a language model for your corpus\n",
    "and discuss some of the “sentences” that can be generated from this language model"
   ]
  },
  {
   "cell_type": "code",
   "execution_count": null,
   "id": "3e046962",
   "metadata": {},
   "outputs": [],
   "source": []
  },
  {
   "cell_type": "code",
   "execution_count": null,
   "id": "08ba3dd9",
   "metadata": {},
   "outputs": [],
   "source": []
  },
  {
   "cell_type": "markdown",
   "id": "beb22874",
   "metadata": {},
   "source": [
    "3. Using the tools of Task 4 of Workshop 4 now build a model for words (letter n-grams) rather\n",
    "than sentences for all words in your corpus which begin with the same letter as your surname1\n",
    ".\n",
    "Note that you will need to prepare the data differently for this. Discuss some of the “words” that\n",
    "can be generated from this language model."
   ]
  },
  {
   "cell_type": "code",
   "execution_count": null,
   "id": "8c611a3f",
   "metadata": {},
   "outputs": [],
   "source": []
  },
  {
   "cell_type": "code",
   "execution_count": null,
   "id": "7e2d1ea2",
   "metadata": {},
   "outputs": [],
   "source": []
  },
  {
   "cell_type": "code",
   "execution_count": null,
   "id": "0919dc57",
   "metadata": {},
   "outputs": [],
   "source": []
  },
  {
   "cell_type": "code",
   "execution_count": null,
   "id": "8b6f8d1c",
   "metadata": {},
   "outputs": [],
   "source": []
  }
 ],
 "metadata": {
  "kernelspec": {
   "display_name": "Python 3 (ipykernel)",
   "language": "python",
   "name": "python3"
  },
  "language_info": {
   "codemirror_mode": {
    "name": "ipython",
    "version": 3
   },
   "file_extension": ".py",
   "mimetype": "text/x-python",
   "name": "python",
   "nbconvert_exporter": "python",
   "pygments_lexer": "ipython3",
   "version": "3.7.13"
  }
 },
 "nbformat": 4,
 "nbformat_minor": 5
}
